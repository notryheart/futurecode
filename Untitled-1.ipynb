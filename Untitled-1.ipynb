{
 "cells": [
  {
   "cell_type": "code",
   "execution_count": 12,
   "metadata": {},
   "outputs": [
    {
     "name": "stdout",
     "output_type": "stream",
     "text": [
      "            temperature  sales\n",
      "date                          \n",
      "2023-07-01    27.774945   2010\n",
      "2023-07-02    29.418479   1845\n",
      "2023-07-03    28.495733    141\n",
      "2023-07-04    30.369211   2007\n",
      "2023-07-05    23.527366   2592\n",
      "2023-07-06    33.863415    330\n",
      "2023-07-07    29.496996     18\n",
      "2023-07-08    29.572397   1245\n",
      "2023-07-09    26.581430   1689\n",
      "2023-07-10    27.585032   1794\n",
      "2023-07-11    28.778842   2511\n",
      "2023-07-12    23.835334   2160\n",
      "2023-07-13    30.944713    855\n",
      "2023-07-14    29.267127     27\n",
      "2023-07-15    25.575075   1839\n",
      "2023-07-16    28.632283   2043\n",
      "2023-07-17    32.013838    900\n",
      "2023-07-18    32.795059    300\n",
      "2023-07-19    24.799404    657\n",
      "2023-07-20    26.752678   2241\n",
      "2023-07-21    32.459505    849\n",
      "2023-07-22    24.321133    663\n",
      "2023-07-23    24.795955   2664\n",
      "2023-07-24    33.579580   1473\n",
      "2023-07-25    27.432170    450\n",
      "2023-07-26    33.957569    984\n",
      "2023-07-27    23.926716   2766\n",
      "2023-07-28    26.572704   1866\n",
      "2023-07-29    26.504578    906\n",
      "2023-07-30    29.358892    594\n"
     ]
    }
   ],
   "source": [
    "import pandas as pd\n",
    "\n",
    "sales_df = pd.read_csv(\"2.4 sales.csv\", index_col = \"date\", usecols = ['date', 'sales'])\n",
    "weather_df = pd.read_csv(\"2.4 weather.csv\", index_col = 'date', usecols = ['date', 'temperature'])\n",
    "result = weather_df.join(sales_df)\n",
    "print(result)\n",
    "\n"
   ]
  },
  {
   "cell_type": "code",
   "execution_count": 13,
   "metadata": {},
   "outputs": [
    {
     "name": "stdout",
     "output_type": "stream",
     "text": [
      "      name  surname     fullname2\n",
      "0     Маша  Петрова  Маша Петрова\n",
      "1     Саша  Сидоров  Саша Сидоров\n",
      "2  Рудольф      Кац   Рудольф Кац\n"
     ]
    },
    {
     "name": "stderr",
     "output_type": "stream",
     "text": [
      "C:\\Users\\Yaroslav\\AppData\\Local\\Temp\\ipykernel_6528\\121242421.py:3: FutureWarning: Series.__getitem__ treating keys as positions is deprecated. In a future version, integer keys will always be treated as labels (consistent with DataFrame behavior). To access a value by position, use `ser.iloc[pos]`\n",
      "  df['fullname2'] = df[['name', 'surname']].apply(lambda x: x[0] + ' ' +x[1], axis=1)\n"
     ]
    }
   ],
   "source": [
    "df = pd.DataFrame({'name': [u'Маша', u'Саша', u'Рудольф'],'surname':[u'Петрова', u'Сидоров', u'Кац']})\n",
    "# １ способ\n",
    "df['fullname2'] = df[['name', 'surname']].apply(lambda x: x[0] + ' ' +x[1], axis=1)\n",
    "print(df)\n"
   ]
  }
 ],
 "metadata": {
  "kernelspec": {
   "display_name": "Python 3",
   "language": "python",
   "name": "python3"
  },
  "language_info": {
   "codemirror_mode": {
    "name": "ipython",
    "version": 3
   },
   "file_extension": ".py",
   "mimetype": "text/x-python",
   "name": "python",
   "nbconvert_exporter": "python",
   "pygments_lexer": "ipython3",
   "version": "3.12.4"
  }
 },
 "nbformat": 4,
 "nbformat_minor": 2
}
